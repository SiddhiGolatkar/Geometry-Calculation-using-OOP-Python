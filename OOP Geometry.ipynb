{
 "cells": [
  {
   "cell_type": "markdown",
   "metadata": {},
   "source": [
    "## Write OOP classes to handle the following scenarios:\n",
    "\n",
    "- A user can create and view 2D coordinates\n",
    "- A user can find out the distance between 2 coordinates\n",
    "- A user can find the distance of a coordinate from Origin\n",
    "- A user can check if a point lies on a given line\n",
    "- A user can find the distance between a given 2D point and a given line"
   ]
  },
  {
   "cell_type": "markdown",
   "metadata": {},
   "source": [
    "### 1. A user can create and view 2D coordinates"
   ]
  },
  {
   "cell_type": "code",
   "execution_count": 1,
   "metadata": {},
   "outputs": [],
   "source": [
    "class Point:\n",
    "    \n",
    "    def __init__(self, x, y):\n",
    "        self.x_cod = x\n",
    "        self.y_cod = y\n",
    "        \n",
    "    def __str__(self):\n",
    "        return '({},{})'.format(self.x_cod, self.y_cod)"
   ]
  },
  {
   "cell_type": "code",
   "execution_count": 2,
   "metadata": {},
   "outputs": [
    {
     "name": "stdout",
     "output_type": "stream",
     "text": [
      "(2,2)\n"
     ]
    }
   ],
   "source": [
    "p1 = Point(2,2)\n",
    "print(p1)"
   ]
  },
  {
   "cell_type": "markdown",
   "metadata": {},
   "source": [
    "###  2. A user can find out the distance between 2 coordinates"
   ]
  },
  {
   "cell_type": "code",
   "execution_count": 3,
   "metadata": {},
   "outputs": [],
   "source": [
    "class Point:\n",
    "    \n",
    "    def __init__(self, x, y):\n",
    "        self.x_cod = x\n",
    "        self.y_cod = y\n",
    "        \n",
    "    def __str__(self):\n",
    "        return '({},{})'.format(self.x_cod, self.y_cod)\n",
    "    \n",
    "    def euclidean_distance(self, other):\n",
    "        return round(((self.x_cod - other.x_cod)**2 + (self.y_cod - other.y_cod)**2) ** 0.5, 2)"
   ]
  },
  {
   "cell_type": "code",
   "execution_count": 4,
   "metadata": {},
   "outputs": [
    {
     "data": {
      "text/plain": [
       "1.41"
      ]
     },
     "execution_count": 4,
     "metadata": {},
     "output_type": "execute_result"
    }
   ],
   "source": [
    "p1 = Point(1,1)\n",
    "p2 = Point(0,0)\n",
    "\n",
    "p1.euclidean_distance(p2)"
   ]
  },
  {
   "cell_type": "markdown",
   "metadata": {},
   "source": [
    "### 3. A user can find the distance of a coordinate from Origin"
   ]
  },
  {
   "cell_type": "code",
   "execution_count": 5,
   "metadata": {},
   "outputs": [],
   "source": [
    "class Point:\n",
    "    \n",
    "    def __init__(self, x, y):\n",
    "        self.x_cod = x\n",
    "        self.y_cod = y\n",
    "        \n",
    "    def __str__(self):\n",
    "        return '({},{})'.format(self.x_cod, self.y_cod)\n",
    "    \n",
    "    def euclidean_distance(self, other):\n",
    "        return round(((self.x_cod - other.x_cod)**2 + (self.y_cod - other.y_cod)**2) ** 0.5, 2)\n",
    "    \n",
    "    def distance_from_origin(self):\n",
    "        return self.euclidean_distance(Point(0,0))\n",
    "      # return (self.x_cod ** 2 + self.y_cod ** 2) ** 0.5"
   ]
  },
  {
   "cell_type": "code",
   "execution_count": 6,
   "metadata": {},
   "outputs": [
    {
     "data": {
      "text/plain": [
       "0.0"
      ]
     },
     "execution_count": 6,
     "metadata": {},
     "output_type": "execute_result"
    }
   ],
   "source": [
    "p1 = Point(1,1)\n",
    "p2 = Point(0,0)\n",
    "\n",
    "p2.distance_from_origin()"
   ]
  },
  {
   "cell_type": "markdown",
   "metadata": {},
   "source": [
    "### 4. A user can check if a point lies on a given line"
   ]
  },
  {
   "cell_type": "code",
   "execution_count": 7,
   "metadata": {},
   "outputs": [],
   "source": [
    "class Point:\n",
    "    \n",
    "    def __init__(self, x, y):\n",
    "        self.x_cod = x\n",
    "        self.y_cod = y\n",
    "        \n",
    "    def __str__(self):\n",
    "        return '({},{})'.format(self.x_cod, self.y_cod)\n",
    "    \n",
    "    def euclidean_distance(self, other):\n",
    "        return round(((self.x_cod - other.x_cod)**2 + (self.y_cod - other.y_cod)**2) ** 0.5, 2)\n",
    "    \n",
    "    def distance_from_origin(self):\n",
    "        return self.euclidean_distance(Point(0,0))\n",
    "      # return (self.x_cod ** 2 + self.y_cod ** 2) ** 0.5\n",
    "\n",
    "\n",
    "# Equation of a Line - Ax + By + C\n",
    "\n",
    "class Line:\n",
    "    \n",
    "    def __init__(self, A, B, C):\n",
    "        self.A = A\n",
    "        self.B = B\n",
    "        self.C = C\n",
    "        \n",
    "    def __str__(self):\n",
    "        return '{}x + {}y + {} = 0'.format(self.A, self.B, self.C)\n",
    "    \n",
    "    def point_on_line(line, point):\n",
    "        if line.A * point.x_cod + line.B * point.y_cod + line.C == 0:\n",
    "            return \"Point ({},{}) lies on Line\".format(point.x_cod, point.y_cod)\n",
    "        else:\n",
    "            return \"Point ({},{}) does not lies on Line\".format(point.x_cod, point.y_cod)\n",
    "        "
   ]
  },
  {
   "cell_type": "code",
   "execution_count": 8,
   "metadata": {},
   "outputs": [],
   "source": [
    "l1 = Line(1,1,-2)"
   ]
  },
  {
   "cell_type": "code",
   "execution_count": 9,
   "metadata": {},
   "outputs": [],
   "source": [
    "p1 = Point(1,1)"
   ]
  },
  {
   "cell_type": "code",
   "execution_count": 10,
   "metadata": {},
   "outputs": [
    {
     "data": {
      "text/plain": [
       "'Point (1,1) lies on Line'"
      ]
     },
     "execution_count": 10,
     "metadata": {},
     "output_type": "execute_result"
    }
   ],
   "source": [
    "l1.point_on_line(p1)"
   ]
  },
  {
   "cell_type": "markdown",
   "metadata": {},
   "source": [
    "### 5. A user can find the distance between a given 2D point and a given line"
   ]
  },
  {
   "cell_type": "code",
   "execution_count": 11,
   "metadata": {},
   "outputs": [],
   "source": [
    "class Point:\n",
    "    \n",
    "    def __init__(self, x, y):\n",
    "        self.x_cod = x\n",
    "        self.y_cod = y\n",
    "        \n",
    "    def __str__(self):\n",
    "        return '({},{})'.format(self.x_cod, self.y_cod)\n",
    "    \n",
    "    def euclidean_distance(self, other):\n",
    "        return round(((self.x_cod - other.x_cod)**2 + (self.y_cod - other.y_cod)**2) ** 0.5, 2)\n",
    "    \n",
    "    def distance_from_origin(self):\n",
    "        return self.euclidean_distance(Point(0,0))\n",
    "      # return (self.x_cod ** 2 + self.y_cod ** 2) ** 0.5\n",
    "\n",
    "\n",
    "# Equation of a Line - Ax + By + C\n",
    "\n",
    "class Line:\n",
    "    \n",
    "    def __init__(self, A, B, C):\n",
    "        self.A = A\n",
    "        self.B = B\n",
    "        self.C = C\n",
    "        \n",
    "    def __str__(self):\n",
    "        return '{}x + {}y + {} = 0'.format(self.A, self.B, self.C)\n",
    "    \n",
    "    def point_on_line(line, point):\n",
    "        if line.A * point.x_cod + line.B * point.y_cod + line.C == 0:\n",
    "            return \"Point ({},{}) lies on Line\".format(point.x_cod, point.y_cod)\n",
    "        else:\n",
    "            return \"Point ({},{}) does not lies on Line\".format(point.x_cod, point.y_cod)\n",
    "        \n",
    "    def shortest_distance(line, point):\n",
    "        return abs((line.A * point.x_cod + line.B * point.y_cod + line.C)) / (line.A ** 2 + line.B ** 2)**0.5\n",
    "            "
   ]
  },
  {
   "cell_type": "code",
   "execution_count": 12,
   "metadata": {},
   "outputs": [],
   "source": [
    "l1 = Line(1,1,-2)"
   ]
  },
  {
   "cell_type": "code",
   "execution_count": 13,
   "metadata": {},
   "outputs": [],
   "source": [
    "p1 = Point(1,1)"
   ]
  },
  {
   "cell_type": "code",
   "execution_count": 14,
   "metadata": {},
   "outputs": [
    {
     "data": {
      "text/plain": [
       "0.0"
      ]
     },
     "execution_count": 14,
     "metadata": {},
     "output_type": "execute_result"
    }
   ],
   "source": [
    "l1.shortest_distance(p1)"
   ]
  },
  {
   "cell_type": "markdown",
   "metadata": {},
   "source": [
    "### 6. Find the intersection point of any given Two Lines "
   ]
  },
  {
   "cell_type": "code",
   "execution_count": 15,
   "metadata": {},
   "outputs": [],
   "source": [
    "class Point:\n",
    "    \n",
    "    def __init__(self, x, y):\n",
    "        self.x_cod = x\n",
    "        self.y_cod = y\n",
    "        \n",
    "    def __str__(self):\n",
    "        return '({},{})'.format(self.x_cod, self.y_cod)\n",
    "    \n",
    "    def euclidean_distance(self, other):\n",
    "        return round(((self.x_cod - other.x_cod)**2 + (self.y_cod - other.y_cod)**2) ** 0.5, 2)\n",
    "    \n",
    "    def distance_from_origin(self):\n",
    "        return self.euclidean_distance(Point(0,0))\n",
    "      # return (self.x_cod ** 2 + self.y_cod ** 2) ** 0.5\n",
    "\n",
    "\n",
    "# Equation of a Line - Ax + By + C\n",
    "\n",
    "class Line:\n",
    "    \n",
    "    def __init__(self, A, B, C):\n",
    "        self.A = A\n",
    "        self.B = B\n",
    "        self.C = C\n",
    "        \n",
    "    def __str__(self):\n",
    "        return '{}x + {}y + {} = 0'.format(self.A, self.B, self.C)\n",
    "    \n",
    "    def point_on_line(line, point):\n",
    "        if line.A * point.x_cod + line.B * point.y_cod + line.C == 0:\n",
    "            return \"Point ({},{}) lies on Line\".format(point.x_cod, point.y_cod)\n",
    "        else:\n",
    "            return \"Point ({},{}) does not lies on Line\".format(point.x_cod, point.y_cod)\n",
    "        \n",
    "    def shortest_distance(line, point):\n",
    "        return abs((line.A * point.x_cod + line.B * point.y_cod + line.C)) / (line.A ** 2 + line.B ** 2)**0.5\n",
    "    \n",
    "    # Intersection point can be calculated using the point of intersection formula,\n",
    "    # x = b1c2−b2c1 / a1b2−a2b1 ; y = a2c1−a1c2 / a1b2−a2b1\n",
    "\n",
    "    # x = b.line * c.other − b.other * c.line / a.line * b.other − a.other * b.line ;\n",
    "    # y = a.other * c.line − a.line * c.other / a.line * b.other − a.other * b.line\n",
    "        \n",
    "    def intersection_point(line, other):\n",
    "        x = round((line.B * other.C - other.B * line.C) / (line.A * other.B - other.A * line.B))\n",
    "        y = round((other.A * line.C - line.A * other.C) / (line.A * other.B - other.A * line.B)) \n",
    "        \n",
    "        return \"({},{})\".format(x,y)\n",
    "        "
   ]
  },
  {
   "cell_type": "code",
   "execution_count": 16,
   "metadata": {},
   "outputs": [
    {
     "data": {
      "text/plain": [
       "'(-5,9)'"
      ]
     },
     "execution_count": 16,
     "metadata": {},
     "output_type": "execute_result"
    }
   ],
   "source": [
    "l1 = Line(5,3,-2)\n",
    "l2 = Line(1,1,-4)\n",
    "\n",
    "l1.intersection_point(l2)"
   ]
  },
  {
   "cell_type": "markdown",
   "metadata": {},
   "source": [
    "### 7. check if any two given lines intersect each other"
   ]
  },
  {
   "cell_type": "code",
   "execution_count": 17,
   "metadata": {},
   "outputs": [],
   "source": [
    "class Point:\n",
    "    \n",
    "    def __init__(self, x, y):\n",
    "        self.x_cod = x\n",
    "        self.y_cod = y\n",
    "        \n",
    "    def __str__(self):\n",
    "        return '({},{})'.format(self.x_cod, self.y_cod)\n",
    "    \n",
    "    def euclidean_distance(self, other):\n",
    "        return round(((self.x_cod - other.x_cod)**2 + (self.y_cod - other.y_cod)**2) ** 0.5, 2)\n",
    "    \n",
    "    def distance_from_origin(self):\n",
    "        return self.euclidean_distance(Point(0,0))\n",
    "      # return (self.x_cod ** 2 + self.y_cod ** 2) ** 0.5\n",
    "\n",
    "\n",
    "# Equation of a Line - Ax + By + C\n",
    "\n",
    "class Line:\n",
    "    \n",
    "    def __init__(self, A, B, C):\n",
    "        self.A = A\n",
    "        self.B = B\n",
    "        self.C = C\n",
    "        \n",
    "    def __str__(self):\n",
    "        return '{}x + {}y + {} = 0'.format(self.A, self.B, self.C)\n",
    "    \n",
    "    def point_on_line(line, point):\n",
    "        if line.A * point.x_cod + line.B * point.y_cod + line.C == 0:\n",
    "            return True\n",
    "            # return \"Point ({},{}) lies on Line\".format(point.x_cod, point.y_cod)\n",
    "        else:\n",
    "            return False\n",
    "            # return \"Point ({},{}) does not lies on Line\".format(point.x_cod, point.y_cod)\n",
    "        \n",
    "    def shortest_distance(line, point):\n",
    "        return abs((line.A * point.x_cod + line.B * point.y_cod + line.C)) / (line.A ** 2 + line.B ** 2)**0.5\n",
    "    \n",
    "    # Intersection point can be calculated using the point of intersection formula,\n",
    "    # x = b1c2−b2c1 / a1b2−a2b1 ; y = a2c1−a1c2 / a1b2−a2b1\n",
    "\n",
    "    # x = b.line * c.other − b.other * c.line / a.line * b.other − a.other * b.line ;\n",
    "    # y = a.other * c.line − a.line * c.other / a.line * b.other − a.other * b.line\n",
    "        \n",
    "    def intersection_point(line, other):\n",
    "        if (line.A * other.B - other.A * line.B) != 0:\n",
    "            x = round((line.B * other.C - other.B * line.C) / (line.A * other.B - other.A * line.B))\n",
    "            y = round((other.A * line.C - line.A * other.C) / (line.A * other.B - other.A * line.B)) \n",
    "            return \"The given lines intersect at Point({},{})\".format(x,y)\n",
    "        else:\n",
    "            return \"The given lines does not intersect each other\"\n",
    "        "
   ]
  },
  {
   "cell_type": "code",
   "execution_count": 18,
   "metadata": {},
   "outputs": [
    {
     "data": {
      "text/plain": [
       "'The given lines intersect at Point(-5,9)'"
      ]
     },
     "execution_count": 18,
     "metadata": {},
     "output_type": "execute_result"
    }
   ],
   "source": [
    "l1 = Line(5,3,-2)\n",
    "l2 = Line(1,1,-4)\n",
    "\n",
    "l1.intersection_point(l2)"
   ]
  },
  {
   "cell_type": "code",
   "execution_count": 19,
   "metadata": {},
   "outputs": [
    {
     "data": {
      "text/plain": [
       "'The given lines intersect at Point(-1,1)'"
      ]
     },
     "execution_count": 19,
     "metadata": {},
     "output_type": "execute_result"
    }
   ],
   "source": [
    "l1 = Line(3,1,2)\n",
    "l2 = Line(5,3,2)\n",
    "\n",
    "l1.intersection_point(l2)"
   ]
  },
  {
   "cell_type": "code",
   "execution_count": 20,
   "metadata": {},
   "outputs": [
    {
     "data": {
      "text/plain": [
       "'The given lines does not intersect each other'"
      ]
     },
     "execution_count": 20,
     "metadata": {},
     "output_type": "execute_result"
    }
   ],
   "source": [
    "# Parallel lines\n",
    "\n",
    "l3 = Line(3,1,4)\n",
    "l4 = Line(3,1,-7)\n",
    "\n",
    "l3.intersection_point(l4)"
   ]
  },
  {
   "cell_type": "markdown",
   "metadata": {},
   "source": [
    "- Create class Rectangle which has attributes length and width. \n",
    "- Create 2 methods for calculating area of rectangle and perimeter of rectangle. \n",
    "- Area is calculated by multiplying length by width. \n",
    "- Perimeter is 2 times of (length + width). "
   ]
  },
  {
   "cell_type": "code",
   "execution_count": 21,
   "metadata": {},
   "outputs": [],
   "source": [
    "class Rectangle:\n",
    "    def __init__(self, length, width):\n",
    "        self.length = length\n",
    "        self.width = width\n",
    "        \n",
    "    def area_of_rectangle(self):\n",
    "        a = self.length * self.width\n",
    "        return \"Area of Rectangle : {}\".format(a)\n",
    "    \n",
    "    def perimeter_of_rectangle(self):\n",
    "        p = 2 * (self.length + self.width)\n",
    "        return \"Perimeter of Rectangle : {}\".format(p)\n",
    "    "
   ]
  },
  {
   "cell_type": "code",
   "execution_count": 22,
   "metadata": {},
   "outputs": [
    {
     "data": {
      "text/plain": [
       "'Area of Rectangle : 50'"
      ]
     },
     "execution_count": 22,
     "metadata": {},
     "output_type": "execute_result"
    }
   ],
   "source": [
    "Rect1 = Rectangle(10,5)\n",
    "\n",
    "Rect1.area_of_rectangle()\n"
   ]
  },
  {
   "cell_type": "code",
   "execution_count": 23,
   "metadata": {},
   "outputs": [
    {
     "data": {
      "text/plain": [
       "'Perimeter of Rectangle : 30'"
      ]
     },
     "execution_count": 23,
     "metadata": {},
     "output_type": "execute_result"
    }
   ],
   "source": [
    "Rect1.perimeter_of_rectangle()"
   ]
  },
  {
   "cell_type": "code",
   "execution_count": 24,
   "metadata": {},
   "outputs": [],
   "source": [
    "class Triangle:\n",
    "    def __init__(self, base=0, height=0):\n",
    "        self.base = base\n",
    "        self.height = height\n",
    "        \n",
    "    def area_of_triangle(self):\n",
    "        return \"Area of Triangle is {}cm\".format(round(0.5 * (self.base * self.height)))"
   ]
  },
  {
   "cell_type": "code",
   "execution_count": 25,
   "metadata": {},
   "outputs": [
    {
     "data": {
      "text/plain": [
       "'Area of Triangle is 25cm'"
      ]
     },
     "execution_count": 25,
     "metadata": {},
     "output_type": "execute_result"
    }
   ],
   "source": [
    "t = Triangle(10,5)\n",
    "t.area_of_triangle()"
   ]
  },
  {
   "cell_type": "code",
   "execution_count": null,
   "metadata": {},
   "outputs": [],
   "source": []
  },
  {
   "cell_type": "code",
   "execution_count": null,
   "metadata": {},
   "outputs": [],
   "source": []
  },
  {
   "cell_type": "code",
   "execution_count": null,
   "metadata": {},
   "outputs": [],
   "source": []
  },
  {
   "cell_type": "code",
   "execution_count": null,
   "metadata": {},
   "outputs": [],
   "source": []
  },
  {
   "cell_type": "code",
   "execution_count": null,
   "metadata": {},
   "outputs": [],
   "source": []
  },
  {
   "cell_type": "code",
   "execution_count": null,
   "metadata": {},
   "outputs": [],
   "source": []
  }
 ],
 "metadata": {
  "kernelspec": {
   "display_name": "Python 3",
   "language": "python",
   "name": "python3"
  },
  "language_info": {
   "codemirror_mode": {
    "name": "ipython",
    "version": 3
   },
   "file_extension": ".py",
   "mimetype": "text/x-python",
   "name": "python",
   "nbconvert_exporter": "python",
   "pygments_lexer": "ipython3",
   "version": "3.7.6"
  }
 },
 "nbformat": 4,
 "nbformat_minor": 4
}
